{
  "nbformat": 4,
  "nbformat_minor": 0,
  "metadata": {
    "colab": {
      "provenance": [],
      "authorship_tag": "ABX9TyP6u2Cbryg8Ezz1d/PUL9JS",
      "include_colab_link": true
    },
    "kernelspec": {
      "name": "python3",
      "display_name": "Python 3"
    },
    "language_info": {
      "name": "python"
    }
  },
  "cells": [
    {
      "cell_type": "markdown",
      "metadata": {
        "id": "view-in-github",
        "colab_type": "text"
      },
      "source": [
        "<a href=\"https://colab.research.google.com/github/tanayaharley31/DATA602_Repo/blob/main/Tanaya_Harley_122151284.ipynb\" target=\"_parent\"><img src=\"https://colab.research.google.com/assets/colab-badge.svg\" alt=\"Open In Colab\"/></a>"
      ]
    },
    {
      "cell_type": "code",
      "execution_count": 1,
      "metadata": {
        "colab": {
          "base_uri": "https://localhost:8080/"
        },
        "id": "ewNmSIdZXf7I",
        "outputId": "6ede175b-7a58-4478-a153-4d119f55a784"
      },
      "outputs": [
        {
          "output_type": "stream",
          "name": "stdout",
          "text": [
            "Fibonacci series up to 10 terms: [0, 1, 1, 2, 3, 5, 8, 13, 21, 34]\n"
          ]
        }
      ],
      "source": [
        "def fibonacci_series(n):\n",
        "    \"\"\"Generates the Fibonacci series up to n terms.\"\"\"\n",
        "    a, b = 0, 1\n",
        "    series = []\n",
        "    for _ in range(n):\n",
        "        series.append(a)\n",
        "        a, b = b, a + b\n",
        "    return series\n",
        "\n",
        "# Example usage:\n",
        "num_terms = 10\n",
        "fib_series = fibonacci_series(num_terms)\n",
        "print(f\"Fibonacci series up to {num_terms} terms: {fib_series}\")"
      ]
    }
  ]
}